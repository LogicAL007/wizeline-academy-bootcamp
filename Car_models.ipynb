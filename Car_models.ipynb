{
  "nbformat": 4,
  "nbformat_minor": 0,
  "metadata": {
    "colab": {
      "provenance": [],
      "toc_visible": true
    },
    "kernelspec": {
      "name": "python3",
      "display_name": "Python 3"
    },
    "language_info": {
      "name": "python"
    }
  },
  "cells": [
    {
      "cell_type": "code",
      "source": [
        "pip install pyspark"
      ],
      "metadata": {
        "colab": {
          "base_uri": "https://localhost:8080/"
        },
        "id": "wEVgh7R4NEkc",
        "outputId": "7382a3a6-382b-442e-acee-f7ea3126fcdf"
      },
      "execution_count": 5,
      "outputs": [
        {
          "output_type": "stream",
          "name": "stdout",
          "text": [
            "Collecting pyspark\n",
            "  Downloading pyspark-3.4.1.tar.gz (310.8 MB)\n",
            "\u001b[2K     \u001b[90m━━━━━━━━━━━━━━━━━━━━━━━━━━━━━━━━━━━━━━━\u001b[0m \u001b[32m310.8/310.8 MB\u001b[0m \u001b[31m4.1 MB/s\u001b[0m eta \u001b[36m0:00:00\u001b[0m\n",
            "\u001b[?25h  Preparing metadata (setup.py) ... \u001b[?25l\u001b[?25hdone\n",
            "Requirement already satisfied: py4j==0.10.9.7 in /usr/local/lib/python3.10/dist-packages (from pyspark) (0.10.9.7)\n",
            "Building wheels for collected packages: pyspark\n",
            "  Building wheel for pyspark (setup.py) ... \u001b[?25l\u001b[?25hdone\n",
            "  Created wheel for pyspark: filename=pyspark-3.4.1-py2.py3-none-any.whl size=311285388 sha256=a3de7705341697ad69688e877624a4bc26c3448af03572be84f1f7d100b033bf\n",
            "  Stored in directory: /root/.cache/pip/wheels/0d/77/a3/ff2f74cc9ab41f8f594dabf0579c2a7c6de920d584206e0834\n",
            "Successfully built pyspark\n",
            "Installing collected packages: pyspark\n",
            "Successfully installed pyspark-3.4.1\n"
          ]
        }
      ]
    },
    {
      "cell_type": "code",
      "source": [],
      "metadata": {
        "id": "zrQb3SvaNJ8j"
      },
      "execution_count": null,
      "outputs": []
    },
    {
      "cell_type": "code",
      "source": [
        "import pandas as pd\n",
        "import numpy\n"
      ],
      "metadata": {
        "id": "LiHo8dmWdY_1"
      },
      "execution_count": 6,
      "outputs": []
    },
    {
      "cell_type": "code",
      "execution_count": 57,
      "metadata": {
        "id": "MSVEoNiCiqZX"
      },
      "outputs": [],
      "source": [
        "# Step 1: Import necessary libraries\n",
        "from pyspark.sql import SparkSession\n",
        "from pyspark.sql.functions import avg\n",
        "from pyspark import SparkFiles\n",
        "from pyspark.sql.window import Window\n"
      ]
    },
    {
      "cell_type": "code",
      "source": [
        "from pyspark.sql.functions import col, stddev, abs,lag\n",
        "from pyspark.sql import SparkSession\n",
        "from pyspark import SparkFiles"
      ],
      "metadata": {
        "id": "yRHcq0oS4t9M"
      },
      "execution_count": 55,
      "outputs": []
    },
    {
      "cell_type": "code",
      "source": [
        "# Step 2: Create a Spark session\n",
        "spark = SparkSession.builder.appName(\"CO2_Emission_Analysis\").getOrCreate()\n",
        "\n",
        "\n"
      ],
      "metadata": {
        "id": "VXIYHQBtixPl"
      },
      "execution_count": 9,
      "outputs": []
    },
    {
      "cell_type": "code",
      "source": [
        "# Step 3: Load the CSV data from the given URL\n",
        "url = \"https://storage.googleapis.com/deb-evaluation-materials/vehicles.csv\"\n",
        "spark.sparkContext.addFile(url)  # Add the file to Spark's distributed cache\n",
        "df = spark.read.csv(\"file://\" + SparkFiles.get(\"vehicles.csv\"), header=True, inferSchema=True)\n",
        "\n"
      ],
      "metadata": {
        "id": "RkD9riPDi2ce"
      },
      "execution_count": 10,
      "outputs": []
    },
    {
      "cell_type": "code",
      "source": [
        "df.show()"
      ],
      "metadata": {
        "colab": {
          "base_uri": "https://localhost:8080/"
        },
        "id": "sr-qLzZJZlFj",
        "outputId": "a9d9a4c4-d0e3-4a88-fc5e-5c12f37fcff5"
      },
      "execution_count": 11,
      "outputs": [
        {
          "output_type": "stream",
          "name": "stdout",
          "text": [
            "+----------------+-------------------+----+-------------------+---------+---------------+-----------------+--------------------+---------+------------------+--------+-----------+------------+-----------------------+--------------+\n",
            "|            Make|              Model|Year|Engine Displacement|Cylinders|   Transmission|       Drivetrain|       Vehicle Class|Fuel Type| Fuel Barrels/Year|City MPG|Highway MPG|Combined MPG|CO2 Emission Grams/Mile|Fuel Cost/Year|\n",
            "+----------------+-------------------+----+-------------------+---------+---------------+-----------------+--------------------+---------+------------------+--------+-----------+------------+-----------------------+--------------+\n",
            "|      AM General|  DJ Po Vehicle 2WD|1984|                2.5|      4.0|Automatic 3-spd|    2-Wheel Drive|Special Purpose V...|  Regular|19.388823529411766|      18|         17|          17|      522.7647058823529|          1950|\n",
            "|      AM General|   FJ8c Post Office|1984|                4.2|      6.0|Automatic 3-spd|    2-Wheel Drive|Special Purpose V...|  Regular| 25.35461538461539|      13|         13|          13|      683.6153846153846|          2550|\n",
            "|      AM General|Post Office DJ5 2WD|1985|                2.5|      4.0|Automatic 3-spd| Rear-Wheel Drive|Special Purpose V...|  Regular|         20.600625|      16|         17|          16|               555.4375|          2100|\n",
            "|      AM General|Post Office DJ8 2WD|1985|                4.2|      6.0|Automatic 3-spd| Rear-Wheel Drive|Special Purpose V...|  Regular| 25.35461538461539|      13|         13|          13|      683.6153846153846|          2550|\n",
            "|ASC Incorporated|                GNX|1987|                3.8|      6.0|Automatic 4-spd| Rear-Wheel Drive|        Midsize Cars|  Premium|         20.600625|      14|         21|          16|               555.4375|          2550|\n",
            "|           Acura|        2.2CL/3.0CL|1997|                2.2|      4.0|Automatic 4-spd|Front-Wheel Drive|     Subcompact Cars|  Regular| 14.98227272727273|      20|         26|          22|     403.95454545454544|          1500|\n",
            "|           Acura|        2.2CL/3.0CL|1997|                2.2|      4.0|   Manual 5-spd|Front-Wheel Drive|     Subcompact Cars|  Regular|          13.73375|      22|         28|          24|     370.29166666666674|          1400|\n",
            "|           Acura|        2.2CL/3.0CL|1997|                3.0|      6.0|Automatic 4-spd|Front-Wheel Drive|     Subcompact Cars|  Regular|           16.4805|      18|         26|          20|                 444.35|          1650|\n",
            "|           Acura|        2.3CL/3.0CL|1998|                2.3|      4.0|Automatic 4-spd|Front-Wheel Drive|     Subcompact Cars|  Regular| 14.98227272727273|      19|         27|          22|     403.95454545454544|          1500|\n",
            "|           Acura|        2.3CL/3.0CL|1998|                2.3|      4.0|   Manual 5-spd|Front-Wheel Drive|     Subcompact Cars|  Regular|          13.73375|      21|         29|          24|     370.29166666666674|          1400|\n",
            "|           Acura|        2.3CL/3.0CL|1998|                3.0|      6.0|Automatic 4-spd|Front-Wheel Drive|     Subcompact Cars|  Regular|           16.4805|      17|         26|          20|                 444.35|          1650|\n",
            "|           Acura|        2.3CL/3.0CL|1999|                2.3|      4.0|Automatic 4-spd|Front-Wheel Drive|     Subcompact Cars|  Regular| 14.98227272727273|      20|         27|          22|     403.95454545454544|          1500|\n",
            "|           Acura|        2.3CL/3.0CL|1999|                2.3|      4.0|   Manual 5-spd|Front-Wheel Drive|     Subcompact Cars|  Regular|          13.73375|      21|         29|          24|     370.29166666666674|          1400|\n",
            "|           Acura|        2.3CL/3.0CL|1999|                3.0|      6.0|Automatic 4-spd|Front-Wheel Drive|     Subcompact Cars|  Regular|           16.4805|      17|         26|          20|                 444.35|          1650|\n",
            "|           Acura|              2.5TL|1995|                2.5|      5.0|Automatic 4-spd|Front-Wheel Drive|        Compact Cars|  Premium|           16.4805|      18|         23|          20|                 444.35|          2000|\n",
            "|           Acura|        2.5TL/3.2TL|1996|                2.5|      5.0|Automatic 4-spd|Front-Wheel Drive|        Compact Cars|  Premium|           16.4805|      18|         23|          20|                 444.35|          2000|\n",
            "|           Acura|        2.5TL/3.2TL|1996|                3.2|      6.0|Automatic 4-spd|Front-Wheel Drive|        Compact Cars|  Premium|17.347894736842107|      17|         22|          19|     467.73684210526324|          2150|\n",
            "|           Acura|        2.5TL/3.2TL|1997|                2.5|      5.0|Automatic 4-spd|Front-Wheel Drive|        Compact Cars|  Premium|           16.4805|      18|         23|          20|                 444.35|          2000|\n",
            "|           Acura|        2.5TL/3.2TL|1997|                3.2|      6.0|Automatic 4-spd|Front-Wheel Drive|        Compact Cars|  Premium|17.347894736842107|      17|         22|          19|     467.73684210526324|          2150|\n",
            "|           Acura|        2.5TL/3.2TL|1998|                2.5|      5.0|Automatic 4-spd|Front-Wheel Drive|        Compact Cars|  Premium|           16.4805|      17|         23|          20|                 444.35|          2000|\n",
            "+----------------+-------------------+----+-------------------+---------+---------------+-----------------+--------------------+---------+------------------+--------+-----------+------------+-----------------------+--------------+\n",
            "only showing top 20 rows\n",
            "\n"
          ]
        }
      ]
    },
    {
      "cell_type": "code",
      "source": [
        "df.schema"
      ],
      "metadata": {
        "colab": {
          "base_uri": "https://localhost:8080/"
        },
        "id": "u04sc-CbYUwQ",
        "outputId": "f78cf22b-c29c-4d77-81d3-8684559bb2fd"
      },
      "execution_count": 12,
      "outputs": [
        {
          "output_type": "execute_result",
          "data": {
            "text/plain": [
              "StructType([StructField('Make', StringType(), True), StructField('Model', StringType(), True), StructField('Year', IntegerType(), True), StructField('Engine Displacement', DoubleType(), True), StructField('Cylinders', DoubleType(), True), StructField('Transmission', StringType(), True), StructField('Drivetrain', StringType(), True), StructField('Vehicle Class', StringType(), True), StructField('Fuel Type', StringType(), True), StructField('Fuel Barrels/Year', DoubleType(), True), StructField('City MPG', IntegerType(), True), StructField('Highway MPG', IntegerType(), True), StructField('Combined MPG', IntegerType(), True), StructField('CO2 Emission Grams/Mile', DoubleType(), True), StructField('Fuel Cost/Year', IntegerType(), True)])"
            ]
          },
          "metadata": {},
          "execution_count": 12
        }
      ]
    },
    {
      "cell_type": "code",
      "source": [
        "answer_dict =  {\"Q1\" : None,\n",
        "                \"Q2\" : None,\n",
        "                \"Q3\" : None,\n",
        "                \"Q4\" : None,\n",
        "                \"Q5\" : None,\n",
        "                \"Q6\" : None,\n",
        "                \"Q7\" : None}"
      ],
      "metadata": {
        "id": "d278NlsUc3A-"
      },
      "execution_count": 13,
      "outputs": []
    },
    {
      "cell_type": "markdown",
      "source": [
        "##**Question 1**"
      ],
      "metadata": {
        "id": "ZSZrbm13ePjz"
      }
    },
    {
      "cell_type": "code",
      "source": [
        "# solution\n",
        "vw_df = df.filter(df[\"make\"] == \"Volkswagen\")\n",
        "average_co2_emission = vw_df.select(avg(\"CO2 Emission Grams/Mile\")).collect()[0][0]\n"
      ],
      "metadata": {
        "id": "7_VU0hhPi-iZ"
      },
      "execution_count": 14,
      "outputs": []
    },
    {
      "cell_type": "code",
      "source": [
        "print(\"Average CO2 Emission per gram/mile of all Volkswagen cars:\", average_co2_emission)"
      ],
      "metadata": {
        "id": "oOjdJlM6jCad",
        "colab": {
          "base_uri": "https://localhost:8080/"
        },
        "outputId": "cb8c4c93-6831-43cb-9095-4cb3f3216ade"
      },
      "execution_count": 15,
      "outputs": [
        {
          "output_type": "stream",
          "name": "stdout",
          "text": [
            "Average CO2 Emission per gram/mile of all Volkswagen cars: 392.7417210857633\n"
          ]
        }
      ]
    },
    {
      "cell_type": "code",
      "source": [
        "answer_dict[\"Q1\"] = average_co2_emission"
      ],
      "metadata": {
        "id": "slr2q03QdjmI"
      },
      "execution_count": 16,
      "outputs": []
    },
    {
      "cell_type": "code",
      "source": [
        "answer_dict"
      ],
      "metadata": {
        "colab": {
          "base_uri": "https://localhost:8080/"
        },
        "id": "JIa9n5Htd3TF",
        "outputId": "f1f83e0f-2af5-42ba-edc7-558781d65f49"
      },
      "execution_count": 17,
      "outputs": [
        {
          "output_type": "execute_result",
          "data": {
            "text/plain": [
              "{'Q1': 392.7417210857633,\n",
              " 'Q2': None,\n",
              " 'Q3': None,\n",
              " 'Q4': None,\n",
              " 'Q5': None,\n",
              " 'Q6': None,\n",
              " 'Q7': None}"
            ]
          },
          "metadata": {},
          "execution_count": 17
        }
      ]
    },
    {
      "cell_type": "markdown",
      "source": [
        "##**Question 2**"
      ],
      "metadata": {
        "id": "sgk9CVFKeuyo"
      }
    },
    {
      "cell_type": "code",
      "source": [
        "df.createOrReplaceTempView(\"carmodels\")"
      ],
      "metadata": {
        "id": "RVRKeHdCgJk8"
      },
      "execution_count": 18,
      "outputs": []
    },
    {
      "cell_type": "code",
      "source": [
        "answer_df = spark.sql(\"SELECT COUNT(DISTINCT model) as Top_val, Make FROM carmodels GROUP BY Make ORDER BY COUNT(DISTINCT model) DESC LIMIT 5\")"
      ],
      "metadata": {
        "id": "1U-NEAb-ezAV"
      },
      "execution_count": 19,
      "outputs": []
    },
    {
      "cell_type": "code",
      "source": [
        "answer_df.show()"
      ],
      "metadata": {
        "colab": {
          "base_uri": "https://localhost:8080/"
        },
        "id": "uX6x3H8YhCHV",
        "outputId": "47c8fa65-9c2c-403f-c9ff-fbf7a2bc2aff"
      },
      "execution_count": 20,
      "outputs": [
        {
          "output_type": "stream",
          "name": "stdout",
          "text": [
            "+-------+-------------+\n",
            "|Top_val|         Make|\n",
            "+-------+-------------+\n",
            "|    333|Mercedes-Benz|\n",
            "|    284|          BMW|\n",
            "|    253|    Chevrolet|\n",
            "|    185|         Ford|\n",
            "|    163|          GMC|\n",
            "+-------+-------------+\n",
            "\n"
          ]
        }
      ]
    },
    {
      "cell_type": "code",
      "source": [
        "top_brands_list = answer_df.collect()\n",
        "\n"
      ],
      "metadata": {
        "id": "UMEko1h2sT0F"
      },
      "execution_count": 21,
      "outputs": []
    },
    {
      "cell_type": "code",
      "source": [
        "list2 = answer_df.rdd.map(lambda x: x.Make).collect()"
      ],
      "metadata": {
        "id": "FZgqFzMestbb"
      },
      "execution_count": 36,
      "outputs": []
    },
    {
      "cell_type": "code",
      "source": [
        "list1 = answer_df.rdd.map(lambda x: x.Top_val).collect()"
      ],
      "metadata": {
        "id": "QtfMMEDtupfg"
      },
      "execution_count": 37,
      "outputs": []
    },
    {
      "cell_type": "code",
      "source": [
        "\n",
        "combined_list = [[x, list1[i]] for i, x in enumerate(list2)]\n",
        "\n",
        "print(combined_list)\n"
      ],
      "metadata": {
        "colab": {
          "base_uri": "https://localhost:8080/"
        },
        "id": "vMurjKGSN37J",
        "outputId": "cf36697c-01b1-4c60-ab1e-1c5f22e80009"
      },
      "execution_count": 39,
      "outputs": [
        {
          "output_type": "stream",
          "name": "stdout",
          "text": [
            "[['Mercedes-Benz', 333], ['BMW', 284], ['Chevrolet', 253], ['Ford', 185], ['GMC', 163]]\n"
          ]
        }
      ]
    },
    {
      "cell_type": "code",
      "source": [
        "answer_dict[\"Q2\"] = combined_list"
      ],
      "metadata": {
        "id": "zZGPR8DmQBBd"
      },
      "execution_count": 40,
      "outputs": []
    },
    {
      "cell_type": "code",
      "source": [
        "answer_dict"
      ],
      "metadata": {
        "colab": {
          "base_uri": "https://localhost:8080/"
        },
        "id": "fvGq1zCOQKHi",
        "outputId": "e6458c07-0902-4746-cbb3-5f3ed03bd61b"
      },
      "execution_count": 41,
      "outputs": [
        {
          "output_type": "execute_result",
          "data": {
            "text/plain": [
              "{'Q1': 392.7417210857633,\n",
              " 'Q2': [['Mercedes-Benz', 333],\n",
              "  ['BMW', 284],\n",
              "  ['Chevrolet', 253],\n",
              "  ['Ford', 185],\n",
              "  ['GMC', 163]],\n",
              " 'Q3': None,\n",
              " 'Q4': None,\n",
              " 'Q5': None,\n",
              " 'Q6': None,\n",
              " 'Q7': None}"
            ]
          },
          "metadata": {},
          "execution_count": 41
        }
      ]
    },
    {
      "cell_type": "markdown",
      "source": [
        "##**Question 3**"
      ],
      "metadata": {
        "id": "IJJKFV9n2Mn_"
      }
    },
    {
      "cell_type": "code",
      "source": [
        "df.show()"
      ],
      "metadata": {
        "colab": {
          "base_uri": "https://localhost:8080/"
        },
        "id": "hQldwH5I2uq_",
        "outputId": "74c69a0e-714b-4365-c130-df673569936c"
      },
      "execution_count": 42,
      "outputs": [
        {
          "output_type": "stream",
          "name": "stdout",
          "text": [
            "+----------------+-------------------+----+-------------------+---------+---------------+-----------------+--------------------+---------+------------------+--------+-----------+------------+-----------------------+--------------+\n",
            "|            Make|              Model|Year|Engine Displacement|Cylinders|   Transmission|       Drivetrain|       Vehicle Class|Fuel Type| Fuel Barrels/Year|City MPG|Highway MPG|Combined MPG|CO2 Emission Grams/Mile|Fuel Cost/Year|\n",
            "+----------------+-------------------+----+-------------------+---------+---------------+-----------------+--------------------+---------+------------------+--------+-----------+------------+-----------------------+--------------+\n",
            "|      AM General|  DJ Po Vehicle 2WD|1984|                2.5|      4.0|Automatic 3-spd|    2-Wheel Drive|Special Purpose V...|  Regular|19.388823529411766|      18|         17|          17|      522.7647058823529|          1950|\n",
            "|      AM General|   FJ8c Post Office|1984|                4.2|      6.0|Automatic 3-spd|    2-Wheel Drive|Special Purpose V...|  Regular| 25.35461538461539|      13|         13|          13|      683.6153846153846|          2550|\n",
            "|      AM General|Post Office DJ5 2WD|1985|                2.5|      4.0|Automatic 3-spd| Rear-Wheel Drive|Special Purpose V...|  Regular|         20.600625|      16|         17|          16|               555.4375|          2100|\n",
            "|      AM General|Post Office DJ8 2WD|1985|                4.2|      6.0|Automatic 3-spd| Rear-Wheel Drive|Special Purpose V...|  Regular| 25.35461538461539|      13|         13|          13|      683.6153846153846|          2550|\n",
            "|ASC Incorporated|                GNX|1987|                3.8|      6.0|Automatic 4-spd| Rear-Wheel Drive|        Midsize Cars|  Premium|         20.600625|      14|         21|          16|               555.4375|          2550|\n",
            "|           Acura|        2.2CL/3.0CL|1997|                2.2|      4.0|Automatic 4-spd|Front-Wheel Drive|     Subcompact Cars|  Regular| 14.98227272727273|      20|         26|          22|     403.95454545454544|          1500|\n",
            "|           Acura|        2.2CL/3.0CL|1997|                2.2|      4.0|   Manual 5-spd|Front-Wheel Drive|     Subcompact Cars|  Regular|          13.73375|      22|         28|          24|     370.29166666666674|          1400|\n",
            "|           Acura|        2.2CL/3.0CL|1997|                3.0|      6.0|Automatic 4-spd|Front-Wheel Drive|     Subcompact Cars|  Regular|           16.4805|      18|         26|          20|                 444.35|          1650|\n",
            "|           Acura|        2.3CL/3.0CL|1998|                2.3|      4.0|Automatic 4-spd|Front-Wheel Drive|     Subcompact Cars|  Regular| 14.98227272727273|      19|         27|          22|     403.95454545454544|          1500|\n",
            "|           Acura|        2.3CL/3.0CL|1998|                2.3|      4.0|   Manual 5-spd|Front-Wheel Drive|     Subcompact Cars|  Regular|          13.73375|      21|         29|          24|     370.29166666666674|          1400|\n",
            "|           Acura|        2.3CL/3.0CL|1998|                3.0|      6.0|Automatic 4-spd|Front-Wheel Drive|     Subcompact Cars|  Regular|           16.4805|      17|         26|          20|                 444.35|          1650|\n",
            "|           Acura|        2.3CL/3.0CL|1999|                2.3|      4.0|Automatic 4-spd|Front-Wheel Drive|     Subcompact Cars|  Regular| 14.98227272727273|      20|         27|          22|     403.95454545454544|          1500|\n",
            "|           Acura|        2.3CL/3.0CL|1999|                2.3|      4.0|   Manual 5-spd|Front-Wheel Drive|     Subcompact Cars|  Regular|          13.73375|      21|         29|          24|     370.29166666666674|          1400|\n",
            "|           Acura|        2.3CL/3.0CL|1999|                3.0|      6.0|Automatic 4-spd|Front-Wheel Drive|     Subcompact Cars|  Regular|           16.4805|      17|         26|          20|                 444.35|          1650|\n",
            "|           Acura|              2.5TL|1995|                2.5|      5.0|Automatic 4-spd|Front-Wheel Drive|        Compact Cars|  Premium|           16.4805|      18|         23|          20|                 444.35|          2000|\n",
            "|           Acura|        2.5TL/3.2TL|1996|                2.5|      5.0|Automatic 4-spd|Front-Wheel Drive|        Compact Cars|  Premium|           16.4805|      18|         23|          20|                 444.35|          2000|\n",
            "|           Acura|        2.5TL/3.2TL|1996|                3.2|      6.0|Automatic 4-spd|Front-Wheel Drive|        Compact Cars|  Premium|17.347894736842107|      17|         22|          19|     467.73684210526324|          2150|\n",
            "|           Acura|        2.5TL/3.2TL|1997|                2.5|      5.0|Automatic 4-spd|Front-Wheel Drive|        Compact Cars|  Premium|           16.4805|      18|         23|          20|                 444.35|          2000|\n",
            "|           Acura|        2.5TL/3.2TL|1997|                3.2|      6.0|Automatic 4-spd|Front-Wheel Drive|        Compact Cars|  Premium|17.347894736842107|      17|         22|          19|     467.73684210526324|          2150|\n",
            "|           Acura|        2.5TL/3.2TL|1998|                2.5|      5.0|Automatic 4-spd|Front-Wheel Drive|        Compact Cars|  Premium|           16.4805|      17|         23|          20|                 444.35|          2000|\n",
            "+----------------+-------------------+----+-------------------+---------+---------------+-----------------+--------------------+---------+------------------+--------+-----------+------------+-----------------------+--------------+\n",
            "only showing top 20 rows\n",
            "\n"
          ]
        }
      ]
    },
    {
      "cell_type": "code",
      "source": [
        "distinct_fuels = df.select(col(\"Fuel Type\")).distinct().orderBy(col(\"Fuel Type\"))\n",
        "\n",
        "distinct_fuels_list = distinct_fuels.rdd.map(lambda row: row[0]).collect()\n"
      ],
      "metadata": {
        "id": "DI5ihcHQ3ELO"
      },
      "execution_count": 43,
      "outputs": []
    },
    {
      "cell_type": "code",
      "source": [
        "print(distinct_fuels_list)"
      ],
      "metadata": {
        "colab": {
          "base_uri": "https://localhost:8080/"
        },
        "id": "Ch6SrKBAQl5o",
        "outputId": "e4f3b0cd-bb60-48fc-9d4c-e49323f12324"
      },
      "execution_count": 49,
      "outputs": [
        {
          "output_type": "stream",
          "name": "stdout",
          "text": [
            "['CNG', 'Diesel', 'Gasoline or E85', 'Gasoline or natural gas', 'Gasoline or propane', 'Midgrade', 'Premium', 'Premium Gas or Electricity', 'Premium and Electricity', 'Premium or E85', 'Regular', 'Regular Gas and Electricity', 'Regular Gas or Electricity']\n"
          ]
        }
      ]
    },
    {
      "cell_type": "code",
      "source": [
        "answer_dict[\"Q3\"] = distinct_fuels_list"
      ],
      "metadata": {
        "id": "VRRdLIEBTk9X"
      },
      "execution_count": 50,
      "outputs": []
    },
    {
      "cell_type": "markdown",
      "source": [
        "##**Question 4**"
      ],
      "metadata": {
        "id": "bJb5Bv4gQxMt"
      }
    },
    {
      "cell_type": "markdown",
      "source": [
        "Q4. Show the 9 Toyota cars with the most extreme Fuel Barrels/Year in abosolute terms within all Toyota cars. Show the car Model, Year and their Fuel Barrels/Year in standard deviation units(Z-score) sorted in descending order by their Fuel Barrels/Year in absolute terms first and then by year in descending order BUT without modifying the negative values"
      ],
      "metadata": {
        "id": "C14TScKxSQoI"
      }
    },
    {
      "cell_type": "code",
      "source": [
        "df.show()"
      ],
      "metadata": {
        "colab": {
          "base_uri": "https://localhost:8080/"
        },
        "id": "BS-s0OTcRnyz",
        "outputId": "5c364617-1707-4d03-c020-2efd027d891e"
      },
      "execution_count": 46,
      "outputs": [
        {
          "output_type": "stream",
          "name": "stdout",
          "text": [
            "+----------------+-------------------+----+-------------------+---------+---------------+-----------------+--------------------+---------+------------------+--------+-----------+------------+-----------------------+--------------+\n",
            "|            Make|              Model|Year|Engine Displacement|Cylinders|   Transmission|       Drivetrain|       Vehicle Class|Fuel Type| Fuel Barrels/Year|City MPG|Highway MPG|Combined MPG|CO2 Emission Grams/Mile|Fuel Cost/Year|\n",
            "+----------------+-------------------+----+-------------------+---------+---------------+-----------------+--------------------+---------+------------------+--------+-----------+------------+-----------------------+--------------+\n",
            "|      AM General|  DJ Po Vehicle 2WD|1984|                2.5|      4.0|Automatic 3-spd|    2-Wheel Drive|Special Purpose V...|  Regular|19.388823529411766|      18|         17|          17|      522.7647058823529|          1950|\n",
            "|      AM General|   FJ8c Post Office|1984|                4.2|      6.0|Automatic 3-spd|    2-Wheel Drive|Special Purpose V...|  Regular| 25.35461538461539|      13|         13|          13|      683.6153846153846|          2550|\n",
            "|      AM General|Post Office DJ5 2WD|1985|                2.5|      4.0|Automatic 3-spd| Rear-Wheel Drive|Special Purpose V...|  Regular|         20.600625|      16|         17|          16|               555.4375|          2100|\n",
            "|      AM General|Post Office DJ8 2WD|1985|                4.2|      6.0|Automatic 3-spd| Rear-Wheel Drive|Special Purpose V...|  Regular| 25.35461538461539|      13|         13|          13|      683.6153846153846|          2550|\n",
            "|ASC Incorporated|                GNX|1987|                3.8|      6.0|Automatic 4-spd| Rear-Wheel Drive|        Midsize Cars|  Premium|         20.600625|      14|         21|          16|               555.4375|          2550|\n",
            "|           Acura|        2.2CL/3.0CL|1997|                2.2|      4.0|Automatic 4-spd|Front-Wheel Drive|     Subcompact Cars|  Regular| 14.98227272727273|      20|         26|          22|     403.95454545454544|          1500|\n",
            "|           Acura|        2.2CL/3.0CL|1997|                2.2|      4.0|   Manual 5-spd|Front-Wheel Drive|     Subcompact Cars|  Regular|          13.73375|      22|         28|          24|     370.29166666666674|          1400|\n",
            "|           Acura|        2.2CL/3.0CL|1997|                3.0|      6.0|Automatic 4-spd|Front-Wheel Drive|     Subcompact Cars|  Regular|           16.4805|      18|         26|          20|                 444.35|          1650|\n",
            "|           Acura|        2.3CL/3.0CL|1998|                2.3|      4.0|Automatic 4-spd|Front-Wheel Drive|     Subcompact Cars|  Regular| 14.98227272727273|      19|         27|          22|     403.95454545454544|          1500|\n",
            "|           Acura|        2.3CL/3.0CL|1998|                2.3|      4.0|   Manual 5-spd|Front-Wheel Drive|     Subcompact Cars|  Regular|          13.73375|      21|         29|          24|     370.29166666666674|          1400|\n",
            "|           Acura|        2.3CL/3.0CL|1998|                3.0|      6.0|Automatic 4-spd|Front-Wheel Drive|     Subcompact Cars|  Regular|           16.4805|      17|         26|          20|                 444.35|          1650|\n",
            "|           Acura|        2.3CL/3.0CL|1999|                2.3|      4.0|Automatic 4-spd|Front-Wheel Drive|     Subcompact Cars|  Regular| 14.98227272727273|      20|         27|          22|     403.95454545454544|          1500|\n",
            "|           Acura|        2.3CL/3.0CL|1999|                2.3|      4.0|   Manual 5-spd|Front-Wheel Drive|     Subcompact Cars|  Regular|          13.73375|      21|         29|          24|     370.29166666666674|          1400|\n",
            "|           Acura|        2.3CL/3.0CL|1999|                3.0|      6.0|Automatic 4-spd|Front-Wheel Drive|     Subcompact Cars|  Regular|           16.4805|      17|         26|          20|                 444.35|          1650|\n",
            "|           Acura|              2.5TL|1995|                2.5|      5.0|Automatic 4-spd|Front-Wheel Drive|        Compact Cars|  Premium|           16.4805|      18|         23|          20|                 444.35|          2000|\n",
            "|           Acura|        2.5TL/3.2TL|1996|                2.5|      5.0|Automatic 4-spd|Front-Wheel Drive|        Compact Cars|  Premium|           16.4805|      18|         23|          20|                 444.35|          2000|\n",
            "|           Acura|        2.5TL/3.2TL|1996|                3.2|      6.0|Automatic 4-spd|Front-Wheel Drive|        Compact Cars|  Premium|17.347894736842107|      17|         22|          19|     467.73684210526324|          2150|\n",
            "|           Acura|        2.5TL/3.2TL|1997|                2.5|      5.0|Automatic 4-spd|Front-Wheel Drive|        Compact Cars|  Premium|           16.4805|      18|         23|          20|                 444.35|          2000|\n",
            "|           Acura|        2.5TL/3.2TL|1997|                3.2|      6.0|Automatic 4-spd|Front-Wheel Drive|        Compact Cars|  Premium|17.347894736842107|      17|         22|          19|     467.73684210526324|          2150|\n",
            "|           Acura|        2.5TL/3.2TL|1998|                2.5|      5.0|Automatic 4-spd|Front-Wheel Drive|        Compact Cars|  Premium|           16.4805|      17|         23|          20|                 444.35|          2000|\n",
            "+----------------+-------------------+----+-------------------+---------+---------------+-----------------+--------------------+---------+------------------+--------+-----------+------------+-----------------------+--------------+\n",
            "only showing top 20 rows\n",
            "\n"
          ]
        }
      ]
    },
    {
      "cell_type": "markdown",
      "source": [],
      "metadata": {
        "id": "lY5l1_ATSMi0"
      }
    },
    {
      "cell_type": "code",
      "source": [
        "toyota_cars = df.filter(col(\"Make\") == \"Toyota\")\n",
        "stddev_value = toyota_cars.select(stddev(\"Fuel Barrels/Year\")).collect()[0][0]\n",
        "toyota_cars_zscore = toyota_cars.withColumn(\"zscore\", abs((col(\"Fuel Barrels/Year\") - stddev_value) / stddev_value))\n",
        "sorted_cars = toyota_cars_zscore.orderBy(col(\"zscore\").desc(), col(\"Year\").desc())\n",
        "top_9_cars = sorted_cars.select(\"Model\", \"Year\", \"Fuel Barrels/Year\").limit(9)\n",
        "result_9cars = top_9_cars.rdd.map(lambda row: [row[\"Model\"], row[\"Year\"], row[\"Fuel Barrels/Year\"]]).collect()\n"
      ],
      "metadata": {
        "id": "dx6RjZrnQ6FF"
      },
      "execution_count": 52,
      "outputs": []
    },
    {
      "cell_type": "code",
      "source": [
        "answer_dict[\"Q4\"] = result_9cars"
      ],
      "metadata": {
        "id": "_1qEMT9gTJo4"
      },
      "execution_count": 53,
      "outputs": []
    },
    {
      "cell_type": "code",
      "source": [
        "answer_dict"
      ],
      "metadata": {
        "colab": {
          "base_uri": "https://localhost:8080/"
        },
        "id": "UnoRytS6Tu5J",
        "outputId": "b250a784-d951-43e2-f799-b3bc28274c74"
      },
      "execution_count": 54,
      "outputs": [
        {
          "output_type": "execute_result",
          "data": {
            "text/plain": [
              "{'Q1': 392.7417210857633,\n",
              " 'Q2': [['Mercedes-Benz', 333],\n",
              "  ['BMW', 284],\n",
              "  ['Chevrolet', 253],\n",
              "  ['Ford', 185],\n",
              "  ['GMC', 163]],\n",
              " 'Q3': ['CNG',\n",
              "  'Diesel',\n",
              "  'Gasoline or E85',\n",
              "  'Gasoline or natural gas',\n",
              "  'Gasoline or propane',\n",
              "  'Midgrade',\n",
              "  'Premium',\n",
              "  'Premium Gas or Electricity',\n",
              "  'Premium and Electricity',\n",
              "  'Premium or E85',\n",
              "  'Regular',\n",
              "  'Regular Gas and Electricity',\n",
              "  'Regular Gas or Electricity'],\n",
              " 'Q4': [['Cab/Chassis 2WD', 1993, 32.961],\n",
              "  ['Cab/Chassis 2WD', 1992, 32.961],\n",
              "  ['Cab/Chassis 2WD', 1991, 32.961],\n",
              "  ['Cab/Chassis 2WD', 1990, 32.961],\n",
              "  ['Cab/Chassis 2WD', 1989, 32.961],\n",
              "  ['Cab/Chassis 2WD', 1993, 29.96454545454546],\n",
              "  ['Cab/Chassis 2WD', 1992, 29.96454545454546],\n",
              "  ['Land Cruiser Wagon 4WD', 1992, 29.96454545454546],\n",
              "  ['Cab/Chassis 2WD', 1991, 29.96454545454546]],\n",
              " 'Q5': None,\n",
              " 'Q6': None,\n",
              " 'Q7': None}"
            ]
          },
          "metadata": {},
          "execution_count": 54
        }
      ]
    },
    {
      "cell_type": "markdown",
      "source": [
        "##**Question 5**"
      ],
      "metadata": {
        "id": "BgNHpA8zT1hU"
      }
    },
    {
      "cell_type": "markdown",
      "source": [
        "Q5. Calculate the changes in Combined MPG with their previous model of all Golf cars with Manual 5-spd transmission and Regular Fuel Type. Show the Year, the Combined MPG and the calculated difference of MPG in a list sorted by Year in ascending order."
      ],
      "metadata": {
        "id": "LWH4kNopT9O6"
      }
    },
    {
      "cell_type": "code",
      "source": [
        "df.show()"
      ],
      "metadata": {
        "colab": {
          "base_uri": "https://localhost:8080/"
        },
        "id": "TIAJSXPjUeQ9",
        "outputId": "e94c05ea-6082-419b-cee6-47250e351452"
      },
      "execution_count": 56,
      "outputs": [
        {
          "output_type": "stream",
          "name": "stdout",
          "text": [
            "+----------------+-------------------+----+-------------------+---------+---------------+-----------------+--------------------+---------+------------------+--------+-----------+------------+-----------------------+--------------+\n",
            "|            Make|              Model|Year|Engine Displacement|Cylinders|   Transmission|       Drivetrain|       Vehicle Class|Fuel Type| Fuel Barrels/Year|City MPG|Highway MPG|Combined MPG|CO2 Emission Grams/Mile|Fuel Cost/Year|\n",
            "+----------------+-------------------+----+-------------------+---------+---------------+-----------------+--------------------+---------+------------------+--------+-----------+------------+-----------------------+--------------+\n",
            "|      AM General|  DJ Po Vehicle 2WD|1984|                2.5|      4.0|Automatic 3-spd|    2-Wheel Drive|Special Purpose V...|  Regular|19.388823529411766|      18|         17|          17|      522.7647058823529|          1950|\n",
            "|      AM General|   FJ8c Post Office|1984|                4.2|      6.0|Automatic 3-spd|    2-Wheel Drive|Special Purpose V...|  Regular| 25.35461538461539|      13|         13|          13|      683.6153846153846|          2550|\n",
            "|      AM General|Post Office DJ5 2WD|1985|                2.5|      4.0|Automatic 3-spd| Rear-Wheel Drive|Special Purpose V...|  Regular|         20.600625|      16|         17|          16|               555.4375|          2100|\n",
            "|      AM General|Post Office DJ8 2WD|1985|                4.2|      6.0|Automatic 3-spd| Rear-Wheel Drive|Special Purpose V...|  Regular| 25.35461538461539|      13|         13|          13|      683.6153846153846|          2550|\n",
            "|ASC Incorporated|                GNX|1987|                3.8|      6.0|Automatic 4-spd| Rear-Wheel Drive|        Midsize Cars|  Premium|         20.600625|      14|         21|          16|               555.4375|          2550|\n",
            "|           Acura|        2.2CL/3.0CL|1997|                2.2|      4.0|Automatic 4-spd|Front-Wheel Drive|     Subcompact Cars|  Regular| 14.98227272727273|      20|         26|          22|     403.95454545454544|          1500|\n",
            "|           Acura|        2.2CL/3.0CL|1997|                2.2|      4.0|   Manual 5-spd|Front-Wheel Drive|     Subcompact Cars|  Regular|          13.73375|      22|         28|          24|     370.29166666666674|          1400|\n",
            "|           Acura|        2.2CL/3.0CL|1997|                3.0|      6.0|Automatic 4-spd|Front-Wheel Drive|     Subcompact Cars|  Regular|           16.4805|      18|         26|          20|                 444.35|          1650|\n",
            "|           Acura|        2.3CL/3.0CL|1998|                2.3|      4.0|Automatic 4-spd|Front-Wheel Drive|     Subcompact Cars|  Regular| 14.98227272727273|      19|         27|          22|     403.95454545454544|          1500|\n",
            "|           Acura|        2.3CL/3.0CL|1998|                2.3|      4.0|   Manual 5-spd|Front-Wheel Drive|     Subcompact Cars|  Regular|          13.73375|      21|         29|          24|     370.29166666666674|          1400|\n",
            "|           Acura|        2.3CL/3.0CL|1998|                3.0|      6.0|Automatic 4-spd|Front-Wheel Drive|     Subcompact Cars|  Regular|           16.4805|      17|         26|          20|                 444.35|          1650|\n",
            "|           Acura|        2.3CL/3.0CL|1999|                2.3|      4.0|Automatic 4-spd|Front-Wheel Drive|     Subcompact Cars|  Regular| 14.98227272727273|      20|         27|          22|     403.95454545454544|          1500|\n",
            "|           Acura|        2.3CL/3.0CL|1999|                2.3|      4.0|   Manual 5-spd|Front-Wheel Drive|     Subcompact Cars|  Regular|          13.73375|      21|         29|          24|     370.29166666666674|          1400|\n",
            "|           Acura|        2.3CL/3.0CL|1999|                3.0|      6.0|Automatic 4-spd|Front-Wheel Drive|     Subcompact Cars|  Regular|           16.4805|      17|         26|          20|                 444.35|          1650|\n",
            "|           Acura|              2.5TL|1995|                2.5|      5.0|Automatic 4-spd|Front-Wheel Drive|        Compact Cars|  Premium|           16.4805|      18|         23|          20|                 444.35|          2000|\n",
            "|           Acura|        2.5TL/3.2TL|1996|                2.5|      5.0|Automatic 4-spd|Front-Wheel Drive|        Compact Cars|  Premium|           16.4805|      18|         23|          20|                 444.35|          2000|\n",
            "|           Acura|        2.5TL/3.2TL|1996|                3.2|      6.0|Automatic 4-spd|Front-Wheel Drive|        Compact Cars|  Premium|17.347894736842107|      17|         22|          19|     467.73684210526324|          2150|\n",
            "|           Acura|        2.5TL/3.2TL|1997|                2.5|      5.0|Automatic 4-spd|Front-Wheel Drive|        Compact Cars|  Premium|           16.4805|      18|         23|          20|                 444.35|          2000|\n",
            "|           Acura|        2.5TL/3.2TL|1997|                3.2|      6.0|Automatic 4-spd|Front-Wheel Drive|        Compact Cars|  Premium|17.347894736842107|      17|         22|          19|     467.73684210526324|          2150|\n",
            "|           Acura|        2.5TL/3.2TL|1998|                2.5|      5.0|Automatic 4-spd|Front-Wheel Drive|        Compact Cars|  Premium|           16.4805|      17|         23|          20|                 444.35|          2000|\n",
            "+----------------+-------------------+----+-------------------+---------+---------------+-----------------+--------------------+---------+------------------+--------+-----------+------------+-----------------------+--------------+\n",
            "only showing top 20 rows\n",
            "\n"
          ]
        }
      ]
    },
    {
      "cell_type": "code",
      "source": [
        "filtered_df = df.filter((col(\"Model\") == \"Golf\") &\n",
        "                        (col(\"Transmission\") == \"Manual 5-spd\") &\n",
        "                        (col(\"Fuel Type\") == \"Regular\"))\n",
        "\n",
        "window_spec = Window.partitionBy(\"Make\", \"Model\").orderBy(\"Year\")\n",
        "mpg_diff_df = filtered_df.withColumn(\"prev_mpg\", lag(\"Combined MPG\").over(window_spec))\n",
        "mpg_diff_df = mpg_diff_df.withColumn(\"mpg_diff\", col(\"Combined MPG\") - col(\"prev_mpg\"))\n",
        "\n"
      ],
      "metadata": {
        "colab": {
          "base_uri": "https://localhost:8080/"
        },
        "id": "dtcXv2uuT04W",
        "outputId": "54e7ac45-de12-4a35-d92c-68a643b427dc"
      },
      "execution_count": 58,
      "outputs": [
        {
          "output_type": "stream",
          "name": "stdout",
          "text": [
            "[1986, 26, None]\n",
            "[1987, 26, 0]\n",
            "[1988, 25, -1]\n",
            "[1989, 25, 0]\n",
            "[1999, 24, -1]\n",
            "[2000, 24, 0]\n",
            "[2001, 24, 0]\n",
            "[2002, 24, 0]\n",
            "[2003, 24, 0]\n",
            "[2004, 24, 0]\n",
            "[2005, 24, 0]\n",
            "[2006, 24, 0]\n",
            "[2010, 25, 1]\n",
            "[2011, 26, 1]\n",
            "[2012, 26, 0]\n",
            "[2013, 26, 0]\n",
            "[2015, 30, 4]\n",
            "[2016, 30, 0]\n",
            "[2017, 29, -1]\n"
          ]
        }
      ]
    },
    {
      "cell_type": "code",
      "source": [
        "MPG_change_df = mpg_diff_df.select(\"Year\", \"Combined MPG\", \"mpg_diff\").orderBy(\"year\")\n",
        "MPG_change_list = MPG_change_df.rdd.map(lambda row: [row[\"Year\"], row[\"Combined MPG\"], row[\"mpg_diff\"]]).collect()"
      ],
      "metadata": {
        "id": "Z9lOjrRnVq3_"
      },
      "execution_count": 59,
      "outputs": []
    },
    {
      "cell_type": "code",
      "source": [
        "answer_dict[\"Q5\"] = MPG_change_list"
      ],
      "metadata": {
        "id": "J_TQtAwbV4hc"
      },
      "execution_count": 60,
      "outputs": []
    },
    {
      "cell_type": "code",
      "source": [
        "answer_dict"
      ],
      "metadata": {
        "colab": {
          "base_uri": "https://localhost:8080/"
        },
        "id": "R4SoHuewV_jE",
        "outputId": "12033471-3926-4edc-e4bb-be2a5f070430"
      },
      "execution_count": 61,
      "outputs": [
        {
          "output_type": "execute_result",
          "data": {
            "text/plain": [
              "{'Q1': 392.7417210857633,\n",
              " 'Q2': [['Mercedes-Benz', 333],\n",
              "  ['BMW', 284],\n",
              "  ['Chevrolet', 253],\n",
              "  ['Ford', 185],\n",
              "  ['GMC', 163]],\n",
              " 'Q3': ['CNG',\n",
              "  'Diesel',\n",
              "  'Gasoline or E85',\n",
              "  'Gasoline or natural gas',\n",
              "  'Gasoline or propane',\n",
              "  'Midgrade',\n",
              "  'Premium',\n",
              "  'Premium Gas or Electricity',\n",
              "  'Premium and Electricity',\n",
              "  'Premium or E85',\n",
              "  'Regular',\n",
              "  'Regular Gas and Electricity',\n",
              "  'Regular Gas or Electricity'],\n",
              " 'Q4': [['Cab/Chassis 2WD', 1993, 32.961],\n",
              "  ['Cab/Chassis 2WD', 1992, 32.961],\n",
              "  ['Cab/Chassis 2WD', 1991, 32.961],\n",
              "  ['Cab/Chassis 2WD', 1990, 32.961],\n",
              "  ['Cab/Chassis 2WD', 1989, 32.961],\n",
              "  ['Cab/Chassis 2WD', 1993, 29.96454545454546],\n",
              "  ['Cab/Chassis 2WD', 1992, 29.96454545454546],\n",
              "  ['Land Cruiser Wagon 4WD', 1992, 29.96454545454546],\n",
              "  ['Cab/Chassis 2WD', 1991, 29.96454545454546]],\n",
              " 'Q5': [[1986, 26, None],\n",
              "  [1987, 26, 0],\n",
              "  [1988, 25, -1],\n",
              "  [1989, 25, 0],\n",
              "  [1999, 24, -1],\n",
              "  [2000, 24, 0],\n",
              "  [2001, 24, 0],\n",
              "  [2002, 24, 0],\n",
              "  [2003, 24, 0],\n",
              "  [2004, 24, 0],\n",
              "  [2005, 24, 0],\n",
              "  [2006, 24, 0],\n",
              "  [2010, 25, 1],\n",
              "  [2011, 26, 1],\n",
              "  [2012, 26, 0],\n",
              "  [2013, 26, 0],\n",
              "  [2015, 30, 4],\n",
              "  [2016, 30, 0],\n",
              "  [2017, 29, -1]],\n",
              " 'Q6': None,\n",
              " 'Q7': None}"
            ]
          },
          "metadata": {},
          "execution_count": 61
        }
      ]
    },
    {
      "cell_type": "markdown",
      "source": [
        "##**Question 6**"
      ],
      "metadata": {
        "id": "Gx04UYYCWEPg"
      }
    },
    {
      "cell_type": "code",
      "source": [
        "df.show()"
      ],
      "metadata": {
        "colab": {
          "base_uri": "https://localhost:8080/"
        },
        "id": "ZVtTLcG7WI88",
        "outputId": "a32591db-a7e2-4818-f37b-5f72e24f2f30"
      },
      "execution_count": 63,
      "outputs": [
        {
          "output_type": "stream",
          "name": "stdout",
          "text": [
            "+----------------+-------------------+----+-------------------+---------+---------------+-----------------+--------------------+---------+------------------+--------+-----------+------------+-----------------------+--------------+\n",
            "|            Make|              Model|Year|Engine Displacement|Cylinders|   Transmission|       Drivetrain|       Vehicle Class|Fuel Type| Fuel Barrels/Year|City MPG|Highway MPG|Combined MPG|CO2 Emission Grams/Mile|Fuel Cost/Year|\n",
            "+----------------+-------------------+----+-------------------+---------+---------------+-----------------+--------------------+---------+------------------+--------+-----------+------------+-----------------------+--------------+\n",
            "|      AM General|  DJ Po Vehicle 2WD|1984|                2.5|      4.0|Automatic 3-spd|    2-Wheel Drive|Special Purpose V...|  Regular|19.388823529411766|      18|         17|          17|      522.7647058823529|          1950|\n",
            "|      AM General|   FJ8c Post Office|1984|                4.2|      6.0|Automatic 3-spd|    2-Wheel Drive|Special Purpose V...|  Regular| 25.35461538461539|      13|         13|          13|      683.6153846153846|          2550|\n",
            "|      AM General|Post Office DJ5 2WD|1985|                2.5|      4.0|Automatic 3-spd| Rear-Wheel Drive|Special Purpose V...|  Regular|         20.600625|      16|         17|          16|               555.4375|          2100|\n",
            "|      AM General|Post Office DJ8 2WD|1985|                4.2|      6.0|Automatic 3-spd| Rear-Wheel Drive|Special Purpose V...|  Regular| 25.35461538461539|      13|         13|          13|      683.6153846153846|          2550|\n",
            "|ASC Incorporated|                GNX|1987|                3.8|      6.0|Automatic 4-spd| Rear-Wheel Drive|        Midsize Cars|  Premium|         20.600625|      14|         21|          16|               555.4375|          2550|\n",
            "|           Acura|        2.2CL/3.0CL|1997|                2.2|      4.0|Automatic 4-spd|Front-Wheel Drive|     Subcompact Cars|  Regular| 14.98227272727273|      20|         26|          22|     403.95454545454544|          1500|\n",
            "|           Acura|        2.2CL/3.0CL|1997|                2.2|      4.0|   Manual 5-spd|Front-Wheel Drive|     Subcompact Cars|  Regular|          13.73375|      22|         28|          24|     370.29166666666674|          1400|\n",
            "|           Acura|        2.2CL/3.0CL|1997|                3.0|      6.0|Automatic 4-spd|Front-Wheel Drive|     Subcompact Cars|  Regular|           16.4805|      18|         26|          20|                 444.35|          1650|\n",
            "|           Acura|        2.3CL/3.0CL|1998|                2.3|      4.0|Automatic 4-spd|Front-Wheel Drive|     Subcompact Cars|  Regular| 14.98227272727273|      19|         27|          22|     403.95454545454544|          1500|\n",
            "|           Acura|        2.3CL/3.0CL|1998|                2.3|      4.0|   Manual 5-spd|Front-Wheel Drive|     Subcompact Cars|  Regular|          13.73375|      21|         29|          24|     370.29166666666674|          1400|\n",
            "|           Acura|        2.3CL/3.0CL|1998|                3.0|      6.0|Automatic 4-spd|Front-Wheel Drive|     Subcompact Cars|  Regular|           16.4805|      17|         26|          20|                 444.35|          1650|\n",
            "|           Acura|        2.3CL/3.0CL|1999|                2.3|      4.0|Automatic 4-spd|Front-Wheel Drive|     Subcompact Cars|  Regular| 14.98227272727273|      20|         27|          22|     403.95454545454544|          1500|\n",
            "|           Acura|        2.3CL/3.0CL|1999|                2.3|      4.0|   Manual 5-spd|Front-Wheel Drive|     Subcompact Cars|  Regular|          13.73375|      21|         29|          24|     370.29166666666674|          1400|\n",
            "|           Acura|        2.3CL/3.0CL|1999|                3.0|      6.0|Automatic 4-spd|Front-Wheel Drive|     Subcompact Cars|  Regular|           16.4805|      17|         26|          20|                 444.35|          1650|\n",
            "|           Acura|              2.5TL|1995|                2.5|      5.0|Automatic 4-spd|Front-Wheel Drive|        Compact Cars|  Premium|           16.4805|      18|         23|          20|                 444.35|          2000|\n",
            "|           Acura|        2.5TL/3.2TL|1996|                2.5|      5.0|Automatic 4-spd|Front-Wheel Drive|        Compact Cars|  Premium|           16.4805|      18|         23|          20|                 444.35|          2000|\n",
            "|           Acura|        2.5TL/3.2TL|1996|                3.2|      6.0|Automatic 4-spd|Front-Wheel Drive|        Compact Cars|  Premium|17.347894736842107|      17|         22|          19|     467.73684210526324|          2150|\n",
            "|           Acura|        2.5TL/3.2TL|1997|                2.5|      5.0|Automatic 4-spd|Front-Wheel Drive|        Compact Cars|  Premium|           16.4805|      18|         23|          20|                 444.35|          2000|\n",
            "|           Acura|        2.5TL/3.2TL|1997|                3.2|      6.0|Automatic 4-spd|Front-Wheel Drive|        Compact Cars|  Premium|17.347894736842107|      17|         22|          19|     467.73684210526324|          2150|\n",
            "|           Acura|        2.5TL/3.2TL|1998|                2.5|      5.0|Automatic 4-spd|Front-Wheel Drive|        Compact Cars|  Premium|           16.4805|      17|         23|          20|                 444.35|          2000|\n",
            "+----------------+-------------------+----+-------------------+---------+---------------+-----------------+--------------------+---------+------------------+--------+-----------+------------+-----------------------+--------------+\n",
            "only showing top 20 rows\n",
            "\n"
          ]
        }
      ]
    },
    {
      "cell_type": "code",
      "source": [
        "brands = [\"Toyota\", \"Ford\", \"Volkswagen\", \"Nissan\", \"Honda\"]\n",
        "\n",
        "co2_emmision_list = []\n",
        "for brand in brands:\n",
        "    brand_df = df.filter(col(\"Make\") == brand).orderBy(col(\"CO2 Emission Grams/Mile\")).limit(5)\n",
        "    brand_emissions = brand_df.select(\"CO2 Emission Grams/Mile\").collect()\n",
        "    emissions_values = [row[\"CO2 Emission Grams/Mile\"] for row in brand_emissions]\n",
        "    brand_row = [brand] + emissions_values\n",
        "    co2_emmision_list.append(brand_row)\n",
        "\n",
        "# Step 5: Sort the result list in ascending order of CO2 Emission Grams/Mile values\n",
        "co2_emmision_list = sorted(co2_emmision_list, key=lambda x: x[1:])\n",
        "\n"
      ],
      "metadata": {
        "id": "1oqFUDhhWsWz"
      },
      "execution_count": 66,
      "outputs": []
    },
    {
      "cell_type": "code",
      "source": [
        "answer_dict[\"Q6\"] = co2_emmision_list"
      ],
      "metadata": {
        "id": "ow-B3vICX5KT"
      },
      "execution_count": 67,
      "outputs": []
    },
    {
      "cell_type": "code",
      "source": [],
      "metadata": {
        "id": "on4qkASDX_OR"
      },
      "execution_count": null,
      "outputs": []
    },
    {
      "cell_type": "markdown",
      "source": [
        "## **Question7**"
      ],
      "metadata": {
        "id": "3-VWoD4kYAo4"
      }
    },
    {
      "cell_type": "markdown",
      "source": [
        "Q7. Form 7 groups of 5 years to calculated the median Combined MPG of each group. The first group is from 1984 to 1988, the second from 1989 to 1993 and so on. The last group will have years not appearing in the dataset.\n",
        "\n",
        "> Indented block\n",
        "\n"
      ],
      "metadata": {
        "id": "7S_N4QF0YFZq"
      }
    },
    {
      "cell_type": "code",
      "source": [
        "df.show()"
      ],
      "metadata": {
        "colab": {
          "base_uri": "https://localhost:8080/"
        },
        "id": "2Mgc-f0UYdT1",
        "outputId": "f3215460-4706-4193-ad44-02374ad1bb6e"
      },
      "execution_count": 68,
      "outputs": [
        {
          "output_type": "stream",
          "name": "stdout",
          "text": [
            "+----------------+-------------------+----+-------------------+---------+---------------+-----------------+--------------------+---------+------------------+--------+-----------+------------+-----------------------+--------------+\n",
            "|            Make|              Model|Year|Engine Displacement|Cylinders|   Transmission|       Drivetrain|       Vehicle Class|Fuel Type| Fuel Barrels/Year|City MPG|Highway MPG|Combined MPG|CO2 Emission Grams/Mile|Fuel Cost/Year|\n",
            "+----------------+-------------------+----+-------------------+---------+---------------+-----------------+--------------------+---------+------------------+--------+-----------+------------+-----------------------+--------------+\n",
            "|      AM General|  DJ Po Vehicle 2WD|1984|                2.5|      4.0|Automatic 3-spd|    2-Wheel Drive|Special Purpose V...|  Regular|19.388823529411766|      18|         17|          17|      522.7647058823529|          1950|\n",
            "|      AM General|   FJ8c Post Office|1984|                4.2|      6.0|Automatic 3-spd|    2-Wheel Drive|Special Purpose V...|  Regular| 25.35461538461539|      13|         13|          13|      683.6153846153846|          2550|\n",
            "|      AM General|Post Office DJ5 2WD|1985|                2.5|      4.0|Automatic 3-spd| Rear-Wheel Drive|Special Purpose V...|  Regular|         20.600625|      16|         17|          16|               555.4375|          2100|\n",
            "|      AM General|Post Office DJ8 2WD|1985|                4.2|      6.0|Automatic 3-spd| Rear-Wheel Drive|Special Purpose V...|  Regular| 25.35461538461539|      13|         13|          13|      683.6153846153846|          2550|\n",
            "|ASC Incorporated|                GNX|1987|                3.8|      6.0|Automatic 4-spd| Rear-Wheel Drive|        Midsize Cars|  Premium|         20.600625|      14|         21|          16|               555.4375|          2550|\n",
            "|           Acura|        2.2CL/3.0CL|1997|                2.2|      4.0|Automatic 4-spd|Front-Wheel Drive|     Subcompact Cars|  Regular| 14.98227272727273|      20|         26|          22|     403.95454545454544|          1500|\n",
            "|           Acura|        2.2CL/3.0CL|1997|                2.2|      4.0|   Manual 5-spd|Front-Wheel Drive|     Subcompact Cars|  Regular|          13.73375|      22|         28|          24|     370.29166666666674|          1400|\n",
            "|           Acura|        2.2CL/3.0CL|1997|                3.0|      6.0|Automatic 4-spd|Front-Wheel Drive|     Subcompact Cars|  Regular|           16.4805|      18|         26|          20|                 444.35|          1650|\n",
            "|           Acura|        2.3CL/3.0CL|1998|                2.3|      4.0|Automatic 4-spd|Front-Wheel Drive|     Subcompact Cars|  Regular| 14.98227272727273|      19|         27|          22|     403.95454545454544|          1500|\n",
            "|           Acura|        2.3CL/3.0CL|1998|                2.3|      4.0|   Manual 5-spd|Front-Wheel Drive|     Subcompact Cars|  Regular|          13.73375|      21|         29|          24|     370.29166666666674|          1400|\n",
            "|           Acura|        2.3CL/3.0CL|1998|                3.0|      6.0|Automatic 4-spd|Front-Wheel Drive|     Subcompact Cars|  Regular|           16.4805|      17|         26|          20|                 444.35|          1650|\n",
            "|           Acura|        2.3CL/3.0CL|1999|                2.3|      4.0|Automatic 4-spd|Front-Wheel Drive|     Subcompact Cars|  Regular| 14.98227272727273|      20|         27|          22|     403.95454545454544|          1500|\n",
            "|           Acura|        2.3CL/3.0CL|1999|                2.3|      4.0|   Manual 5-spd|Front-Wheel Drive|     Subcompact Cars|  Regular|          13.73375|      21|         29|          24|     370.29166666666674|          1400|\n",
            "|           Acura|        2.3CL/3.0CL|1999|                3.0|      6.0|Automatic 4-spd|Front-Wheel Drive|     Subcompact Cars|  Regular|           16.4805|      17|         26|          20|                 444.35|          1650|\n",
            "|           Acura|              2.5TL|1995|                2.5|      5.0|Automatic 4-spd|Front-Wheel Drive|        Compact Cars|  Premium|           16.4805|      18|         23|          20|                 444.35|          2000|\n",
            "|           Acura|        2.5TL/3.2TL|1996|                2.5|      5.0|Automatic 4-spd|Front-Wheel Drive|        Compact Cars|  Premium|           16.4805|      18|         23|          20|                 444.35|          2000|\n",
            "|           Acura|        2.5TL/3.2TL|1996|                3.2|      6.0|Automatic 4-spd|Front-Wheel Drive|        Compact Cars|  Premium|17.347894736842107|      17|         22|          19|     467.73684210526324|          2150|\n",
            "|           Acura|        2.5TL/3.2TL|1997|                2.5|      5.0|Automatic 4-spd|Front-Wheel Drive|        Compact Cars|  Premium|           16.4805|      18|         23|          20|                 444.35|          2000|\n",
            "|           Acura|        2.5TL/3.2TL|1997|                3.2|      6.0|Automatic 4-spd|Front-Wheel Drive|        Compact Cars|  Premium|17.347894736842107|      17|         22|          19|     467.73684210526324|          2150|\n",
            "|           Acura|        2.5TL/3.2TL|1998|                2.5|      5.0|Automatic 4-spd|Front-Wheel Drive|        Compact Cars|  Premium|           16.4805|      17|         23|          20|                 444.35|          2000|\n",
            "+----------------+-------------------+----+-------------------+---------+---------------+-----------------+--------------------+---------+------------------+--------+-----------+------------+-----------------------+--------------+\n",
            "only showing top 20 rows\n",
            "\n"
          ]
        }
      ]
    },
    {
      "cell_type": "code",
      "source": [
        "\n",
        "year_range = list(range(1984, 2023, 5))\n",
        "\n",
        "median_CMG_list = []\n",
        "for start_year in year_range:\n",
        "    end_year = start_year + 4\n",
        "    group_df = df.filter((col(\"Year\") >= start_year) & (col(\"year\") <= end_year))\n",
        "    median_mpg = group_df.approxQuantile(\"Combined MPG\", [0.5], 0)\n",
        "    median_CMG_list.append([(start_year, end_year), median_mpg])\n"
      ],
      "metadata": {
        "id": "gG55zvVJYbl4"
      },
      "execution_count": 83,
      "outputs": []
    },
    {
      "cell_type": "code",
      "source": [
        "answer_dict[\"Q7\"] = median_CMG_list"
      ],
      "metadata": {
        "id": "Gag5J6HDbxmd"
      },
      "execution_count": 84,
      "outputs": []
    },
    {
      "cell_type": "code",
      "source": [
        "answer_dict"
      ],
      "metadata": {
        "colab": {
          "base_uri": "https://localhost:8080/"
        },
        "id": "9MTcq4pSb0XQ",
        "outputId": "c2e951a2-2041-44d2-d4e5-37e515beb506"
      },
      "execution_count": 86,
      "outputs": [
        {
          "output_type": "execute_result",
          "data": {
            "text/plain": [
              "{'Q1': 392.7417210857633,\n",
              " 'Q2': [['Mercedes-Benz', 333],\n",
              "  ['BMW', 284],\n",
              "  ['Chevrolet', 253],\n",
              "  ['Ford', 185],\n",
              "  ['GMC', 163]],\n",
              " 'Q3': ['CNG',\n",
              "  'Diesel',\n",
              "  'Gasoline or E85',\n",
              "  'Gasoline or natural gas',\n",
              "  'Gasoline or propane',\n",
              "  'Midgrade',\n",
              "  'Premium',\n",
              "  'Premium Gas or Electricity',\n",
              "  'Premium and Electricity',\n",
              "  'Premium or E85',\n",
              "  'Regular',\n",
              "  'Regular Gas and Electricity',\n",
              "  'Regular Gas or Electricity'],\n",
              " 'Q4': [['Cab/Chassis 2WD', 1993, 32.961],\n",
              "  ['Cab/Chassis 2WD', 1992, 32.961],\n",
              "  ['Cab/Chassis 2WD', 1991, 32.961],\n",
              "  ['Cab/Chassis 2WD', 1990, 32.961],\n",
              "  ['Cab/Chassis 2WD', 1989, 32.961],\n",
              "  ['Cab/Chassis 2WD', 1993, 29.96454545454546],\n",
              "  ['Cab/Chassis 2WD', 1992, 29.96454545454546],\n",
              "  ['Land Cruiser Wagon 4WD', 1992, 29.96454545454546],\n",
              "  ['Cab/Chassis 2WD', 1991, 29.96454545454546]],\n",
              " 'Q5': [[1986, 26, None],\n",
              "  [1987, 26, 0],\n",
              "  [1988, 25, -1],\n",
              "  [1989, 25, 0],\n",
              "  [1999, 24, -1],\n",
              "  [2000, 24, 0],\n",
              "  [2001, 24, 0],\n",
              "  [2002, 24, 0],\n",
              "  [2003, 24, 0],\n",
              "  [2004, 24, 0],\n",
              "  [2005, 24, 0],\n",
              "  [2006, 24, 0],\n",
              "  [2010, 25, 1],\n",
              "  [2011, 26, 1],\n",
              "  [2012, 26, 0],\n",
              "  [2013, 26, 0],\n",
              "  [2015, 30, 4],\n",
              "  [2016, 30, 0],\n",
              "  [2017, 29, -1]],\n",
              " 'Q6': [['Ford', 112.0, 129.0, 129.0, 129.0, 129.0],\n",
              "  ['Honda',\n",
              "   130.0,\n",
              "   167.67924528301887,\n",
              "   167.67924528301887,\n",
              "   167.67924528301887,\n",
              "   167.67924528301887],\n",
              "  ['Toyota', 133.0, 133.0, 133.0, 133.0, 158.0],\n",
              "  ['Volkswagen', 200.0, 200.0, 200.0, 200.0, 261.025641025641],\n",
              "  ['Nissan', 249.0, 254.0, 254.5, 254.5, 254.5]],\n",
              " 'Q7': [[(1984, 1988), [19.0]],\n",
              "  [(1989, 1993), [18.0]],\n",
              "  [(1994, 1998), [19.0]],\n",
              "  [(1999, 2003), [19.0]],\n",
              "  [(2004, 2008), [19.0]],\n",
              "  [(2009, 2013), [21.0]],\n",
              "  [(2014, 2018), [22.0]],\n",
              "  [(2019, 2023), []]]}"
            ]
          },
          "metadata": {},
          "execution_count": 86
        }
      ]
    },
    {
      "cell_type": "code",
      "source": [
        "from os import path\n",
        "import pickle\n",
        "\n",
        "file_name = \"OMOTOSHO_AYOMIDE_answers.pkl\"\n",
        "path = \"\"\n",
        "\n",
        "with open(path+file_name, 'wb') as f:\n",
        "    pickle.dump(answer_dict, f, protocol=pickle.HIGHEST_PROTOCOL)\n",
        ""
      ],
      "metadata": {
        "colab": {
          "base_uri": "https://localhost:8080/",
          "height": 143
        },
        "id": "w6nMeZElcIP-",
        "outputId": "ddab5b3b-4071-4309-b770-6cde1a00c142"
      },
      "execution_count": 92,
      "outputs": [
        {
          "output_type": "error",
          "ename": "SyntaxError",
          "evalue": "ignored",
          "traceback": [
            "\u001b[0;36m  File \u001b[0;32m\"<ipython-input-92-8fc43f9c9a7d>\"\u001b[0;36m, line \u001b[0;32m5\u001b[0m\n\u001b[0;31m    path = \"\\\"\u001b[0m\n\u001b[0m           ^\u001b[0m\n\u001b[0;31mSyntaxError\u001b[0m\u001b[0;31m:\u001b[0m unterminated string literal (detected at line 5)\n"
          ]
        }
      ]
    },
    {
      "cell_type": "code",
      "source": [
        "ls"
      ],
      "metadata": {
        "colab": {
          "base_uri": "https://localhost:8080/"
        },
        "id": "PohfxOWucfN8",
        "outputId": "ed82ea14-4adf-408c-9c4f-a9aded4c22bf"
      },
      "execution_count": 91,
      "outputs": [
        {
          "output_type": "stream",
          "name": "stdout",
          "text": [
            "OMOTOSHO_AYOMIDE_answers.pkl  \u001b[0m\u001b[01;34msample_data\u001b[0m/  \u001b[01;34mspark-warehouse\u001b[0m/\n"
          ]
        }
      ]
    }
  ]
}